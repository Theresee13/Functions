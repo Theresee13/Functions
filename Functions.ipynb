{
 "cells": [
  {
   "cell_type": "markdown",
   "id": "863df0a6-68ab-4b92-a0db-b9062ed591f8",
   "metadata": {},
   "source": [
    "# Level(2)"
   ]
  },
  {
   "cell_type": "markdown",
   "id": "da4d75d7-ecbe-464b-887e-52500d002294",
   "metadata": {},
   "source": [
    "**1.Capitalize_list_items**"
   ]
  },
  {
   "cell_type": "code",
   "execution_count": 89,
   "id": "92267924-119c-413e-ac4d-84bf5e9fbb9a",
   "metadata": {},
   "outputs": [
    {
     "name": "stdout",
     "output_type": "stream",
     "text": [
      "['Banana', 'Apple', 'Cherry']\n"
     ]
    }
   ],
   "source": [
    "def capitalize_list_items(lst):\n",
    "    capitalized_lst = []\n",
    "    for item in lst:\n",
    "        capitalized_lst.append(item.capitalize())\n",
    "    return capitalized_lst\n",
    "original_list = [\"banana\", \"apple\", \"cherry\"]\n",
    "capitalized_list = capitalize_list_items(original_list)\n",
    "print(capitalized_list)"
   ]
  },
  {
   "cell_type": "markdown",
   "id": "cd864d21-86ee-4c90-9801-23281cf54e7f",
   "metadata": {},
   "source": [
    "**2.Add_items**"
   ]
  },
  {
   "cell_type": "code",
   "execution_count": 93,
   "id": "b9b9b4ee-c731-460b-afb3-b74f029470dc",
   "metadata": {},
   "outputs": [
    {
     "name": "stdout",
     "output_type": "stream",
     "text": [
      "['banana', 'orange', 'apple', 'cherry']\n"
     ]
    }
   ],
   "source": [
    "def add_item(lst,item):\n",
    "    lst.append(item)\n",
    "    return lst\n",
    "original_list=[\"banana\",\"orange\",\"apple\"]\n",
    "new_list=add_item(original_list,\"cherry\")\n",
    "print(new_list)"
   ]
  },
  {
   "cell_type": "markdown",
   "id": "6732c53e-71cb-4f82-b07d-b97f94b58f60",
   "metadata": {},
   "source": [
    "**3.Reverse_list**"
   ]
  },
  {
   "cell_type": "code",
   "execution_count": 68,
   "id": "61b57643-a5ab-44fc-aa15-98250e24e267",
   "metadata": {},
   "outputs": [
    {
     "name": "stdout",
     "output_type": "stream",
     "text": [
      "[5, 4, 3, 2, 1]\n"
     ]
    }
   ],
   "source": [
    "def reverse_list(arr):\n",
    "    reversed_arr = [] \n",
    "    for i in range(len(arr) - 1,-1,-1): \n",
    "        reversed_arr.append(arr[i])  \n",
    "    return reversed_arr\n",
    "print(reverse_list([1, 2, 3, 4, 5])) "
   ]
  },
  {
   "cell_type": "code",
   "execution_count": 70,
   "id": "2aba0b3b-950c-42c4-b273-d55b090e71fd",
   "metadata": {},
   "outputs": [
    {
     "name": "stdout",
     "output_type": "stream",
     "text": [
      "['C', 'B', 'A']\n"
     ]
    }
   ],
   "source": [
    "def reverse_list(arr):\n",
    "    reversed_arr = []  \n",
    "    for i in range(len(arr) - 1,-1,-1):  \n",
    "        reversed_arr.append(arr[i])  \n",
    "    return reversed_arr\n",
    "print(reverse_list([\"A\", \"B\", \"C\"]))"
   ]
  },
  {
   "attachments": {},
   "cell_type": "markdown",
   "id": "6e83e789-48b8-4f60-9f39-c58dca081eb1",
   "metadata": {},
   "source": [
    "**4.Evens_and_Odds**"
   ]
  },
  {
   "cell_type": "code",
   "execution_count": 84,
   "id": "68802ed1-e28c-4f5b-a5de-730495948051",
   "metadata": {},
   "outputs": [
    {
     "name": "stdout",
     "output_type": "stream",
     "text": [
      "(50, 50)\n"
     ]
    }
   ],
   "source": [
    "def evens_and_odds(n):\n",
    "    evens=0\n",
    "    odds=0\n",
    "    for i in range(1,n+1):\n",
    "        if i%2==0:\n",
    "            evens+=1\n",
    "        else:\n",
    "            odds+=1\n",
    "    return evens,odds\n",
    "print(evens_and_odds(100))\n",
    "           "
   ]
  },
  {
   "cell_type": "markdown",
   "id": "6f9b5a65-0cfb-413c-8902-a845ccd4d2aa",
   "metadata": {},
   "source": [
    "**5.Calculate mean, median and mood**"
   ]
  },
  {
   "cell_type": "code",
   "execution_count": 102,
   "id": "3f73510c-6122-4ced-a2d3-9df9cf0e6d6e",
   "metadata": {},
   "outputs": [
    {
     "name": "stdout",
     "output_type": "stream",
     "text": [
      "5.666666666666667\n",
      "5.5\n",
      "2\n"
     ]
    }
   ],
   "source": [
    "import statistics\n",
    "def calculate_mean(lst):\n",
    "    return statistics.mean(lst)\n",
    "def calculate_median(lst):\n",
    "    return statistics.median(lst)\n",
    "def calculate_mode(lst):\n",
    "    return statistics.mode(lst)\n",
    "list=[2,5,6,8,9,4]\n",
    "print(calculate_mean(list))\n",
    "print(calculate_median(list))\n",
    "print(calculate_mode(list))"
   ]
  },
  {
   "cell_type": "markdown",
   "id": "22f602f2-0dc7-4f8c-b60f-00a910b40c90",
   "metadata": {},
   "source": [
    "**6.print_list**"
   ]
  },
  {
   "cell_type": "code",
   "execution_count": 107,
   "id": "ddefbfdd-4bfe-43c5-ac79-f8445a4e546d",
   "metadata": {},
   "outputs": [
    {
     "name": "stdout",
     "output_type": "stream",
     "text": [
      "1\n",
      "2\n",
      "5\n",
      "7\n",
      "5\n"
     ]
    }
   ],
   "source": [
    "def print_list(lst):\n",
    "    for item in lst:\n",
    "        print(item)\n",
    "list=[1,2,5,7,5]\n",
    "print_list(list)"
   ]
  },
  {
   "cell_type": "markdown",
   "id": "0ab2aa9b-628a-4361-b5cf-45c886b6ffee",
   "metadata": {},
   "source": [
    "# Level(3)"
   ]
  },
  {
   "cell_type": "markdown",
   "id": "47028a7f-517c-4b61-beee-2b4e63e8cf69",
   "metadata": {},
   "source": [
    "**1.is_prime**"
   ]
  },
  {
   "cell_type": "code",
   "execution_count": 117,
   "id": "db529836-3f07-47fa-80cb-bdf147f0fd88",
   "metadata": {},
   "outputs": [
    {
     "name": "stdout",
     "output_type": "stream",
     "text": [
      "True\n",
      "False\n",
      "True\n",
      "False\n"
     ]
    }
   ],
   "source": [
    "def is_prime(n):\n",
    "    if n<=1:\n",
    "        return False\n",
    "    for i in range(2,int(n**0.5)+1):\n",
    "        if n%i==0:\n",
    "            return False\n",
    "    return True\n",
    "print(is_prime(2))\n",
    "print(is_prime(16))\n",
    "print(is_prime(7))\n",
    "print(is_prime(22))"
   ]
  },
  {
   "cell_type": "markdown",
   "id": "108e099e-ee2c-4911-8fe6-f0fbee3329e9",
   "metadata": {},
   "source": [
    "**2.is_unique**"
   ]
  },
  {
   "cell_type": "code",
   "execution_count": 122,
   "id": "6385741d-0d75-41d7-ac25-f081bc84adaa",
   "metadata": {},
   "outputs": [
    {
     "name": "stdout",
     "output_type": "stream",
     "text": [
      "True\n",
      "False\n",
      "True\n",
      "False\n"
     ]
    }
   ],
   "source": [
    "def is_unique(lst):\n",
    "    return len(set(lst))==len(lst)\n",
    "print(is_unique([1,2,3,4,5]))\n",
    "print(is_unique([1,2,5,4,5]))\n",
    "print(is_unique([\"apple\",\"banana\",\"cherry\"]))\n",
    "print(is_unique([\"apple\",\"banana\",\"apple\"]))"
   ]
  },
  {
   "cell_type": "markdown",
   "id": "1a93a903-fa30-4aa1-8587-b4f963747161",
   "metadata": {},
   "source": [
    "**3.same_type**"
   ]
  },
  {
   "cell_type": "code",
   "execution_count": 130,
   "id": "74816467-4d52-4def-8e1f-c03c955b8224",
   "metadata": {},
   "outputs": [
    {
     "name": "stdout",
     "output_type": "stream",
     "text": [
      "True\n",
      "False\n"
     ]
    }
   ],
   "source": [
    "def all_same_type(lst):\n",
    "    if len(lst)==0:\n",
    "        return True\n",
    "    data_type=type(lst[0])\n",
    "    for item in lst:\n",
    "        if type(item)!=data_type:\n",
    "            return False\n",
    "    return True\n",
    "print(all_same_type([1,2,3,4]))\n",
    "print(all_same_type([1,2,\"apple\",4]))"
   ]
  },
  {
   "cell_type": "markdown",
   "id": "160e7d71-eb44-4e00-bae7-4c5fdf358d09",
   "metadata": {},
   "source": [
    "**4.valid_variable**"
   ]
  },
  {
   "cell_type": "code",
   "execution_count": 138,
   "id": "3a08a6f0-6ca6-40be-b6e1-a230b30b2992",
   "metadata": {},
   "outputs": [
    {
     "name": "stdout",
     "output_type": "stream",
     "text": [
      "True\n",
      "True\n",
      "False\n",
      "False\n",
      "True\n",
      "True\n",
      "False\n"
     ]
    }
   ],
   "source": [
    "import re\n",
    "def is_valid_variable_name(var_name):\n",
    "    return bool(re.match(r'^[a-zA-Z_][a-zA-Z0-9_]*$',var_name))\n",
    "print(is_valid_variable_name(\"my_var\"))         \n",
    "print(is_valid_variable_name(\"_myVar\"))          \n",
    "print(is_valid_variable_name(\"2ndVar\"))          \n",
    "print(is_valid_variable_name(\"var-name\"))        \n",
    "print(is_valid_variable_name(\"var_name_1\"))      \n",
    "print(is_valid_variable_name(\"class\"))            \n",
    "print(is_valid_variable_name(\"my variable\")) "
   ]
  },
  {
   "cell_type": "code",
   "execution_count": null,
   "id": "fcd36c34-91c6-4d9d-8cec-dd1666eeccee",
   "metadata": {},
   "outputs": [],
   "source": []
  }
 ],
 "metadata": {
  "kernelspec": {
   "display_name": "Python 3 (ipykernel)",
   "language": "python",
   "name": "python3"
  },
  "language_info": {
   "codemirror_mode": {
    "name": "ipython",
    "version": 3
   },
   "file_extension": ".py",
   "mimetype": "text/x-python",
   "name": "python",
   "nbconvert_exporter": "python",
   "pygments_lexer": "ipython3",
   "version": "3.12.4"
  }
 },
 "nbformat": 4,
 "nbformat_minor": 5
}
